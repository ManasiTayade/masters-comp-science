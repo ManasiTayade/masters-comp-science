{
 "cells": [
  {
   "cell_type": "markdown",
   "metadata": {},
   "source": [
    "Hello Sensehack!\n",
    "Importing Random as Rd variable\n",
    "\n",
    "Class ShuffleDecks\n",
    "\n"
   ]
  },
  {
   "cell_type": "code",
   "execution_count": 42,
   "metadata": {},
   "outputs": [
    {
     "name": "stdout",
     "output_type": "stream",
     "text": [
      "Shuffled Deck of cards and selecting the random card of the newly shuffled deck\n",
      "6 of Club\n"
     ]
    }
   ],
   "source": [
    "import random as rd\n",
    "\n",
    "\n",
    "class ShuffleDecks():\n",
    "    '''\n",
    "    \"Class for defining shuffleDecks\"\n",
    "    '''\n",
    "    cardRanks = [\"Jack\", \"Queen\", \"King\",\n",
    "                 \"Ace\", \"2\", \"3\", \"4\", \"5\", \"6\", \"7\", \"8\", \"9\", \"10\"]\n",
    "    cardType = ['Spade', 'Diamond', 'Hearts', 'Club']\n",
    "    shuffleList = []\n",
    "    \n",
    "    for x in cardRanks:\n",
    "        for y in cardType:\n",
    "            shuffleList.append(x+\" of \" + y)\n",
    "\n",
    "    def __init__(self):\n",
    "        \"Constructor initialized // Calling function\"\n",
    "        self.properShuffle()\n",
    "\n",
    "    def retShuffle(self):\n",
    "        \"Created a function for Returning Random from both arrays cardRanks and cardType\"\n",
    "        return (str(self.cardRanks[rd.randint(0, len(self.cardRanks)-1)]) + \" of \" + str(self.cardType[rd.randint(0, len(self.cardType)-1)]))\n",
    "    \n",
    "    \n",
    "    def retShuffleRandom(self):\n",
    "        print(self.shuffleList[rd.randint(0, len(self.shuffleList)-1)])\n",
    "\n",
    "    def callShuffleN(self, numberT, type):\n",
    "        \"function called depending on n number of times.\"\n",
    "        for _ in range(numberT):\n",
    "            if type == \"true\" :\n",
    "                self.retShuffleRandom()  \n",
    "            else :\n",
    "                print(self.retShuffle())\n",
    "            \n",
    "\n",
    "    def properShuffle(self):\n",
    "        \"Shuffle for real\"\n",
    "        rd.shuffle(self.shuffleList)\n",
    "\n",
    "# Different types of invocations\n",
    "\n",
    "# Calling Shuffle n times\n",
    "print('Shuffled Deck of cards and selecting the random card of the newly shuffled deck')\n",
    "ShuffleDecks().callShuffleN(1,\"true\")\n"
   ]
  },
  {
   "cell_type": "markdown",
   "metadata": {},
   "source": [
    "Calling ShuffleDecks class will invoke the constructor calling the properShuffle() method."
   ]
  },
  {
   "cell_type": "code",
   "execution_count": 24,
   "metadata": {},
   "outputs": [
    {
     "data": {
      "text/plain": [
       "52"
      ]
     },
     "execution_count": 24,
     "metadata": {},
     "output_type": "execute_result"
    }
   ],
   "source": [
    "len(ShuffleDecks.shuffleList)"
   ]
  },
  {
   "cell_type": "markdown",
   "metadata": {},
   "source": [
    "# Printing whole list\n"
   ]
  },
  {
   "cell_type": "code",
   "execution_count": 40,
   "metadata": {},
   "outputs": [
    {
     "name": "stdout",
     "output_type": "stream",
     "text": [
      "King of Spade\n",
      "Queen of Club\n",
      "3 of Club\n",
      "9 of Club\n",
      "3 of Hearts\n",
      "9 of Hearts\n",
      "3 of Diamond\n",
      "8 of Spade\n",
      "8 of Hearts\n",
      "2 of Hearts\n",
      "10 of Hearts\n",
      "4 of Hearts\n",
      "6 of Club\n",
      "Jack of Club\n",
      "Ace of Hearts\n",
      "6 of Diamond\n",
      "7 of Hearts\n",
      "3 of Spade\n",
      "8 of Club\n",
      "Jack of Spade\n",
      "Ace of Diamond\n",
      "4 of Diamond\n",
      "4 of Club\n",
      "5 of Club\n",
      "Ace of Spade\n",
      "9 of Spade\n",
      "5 of Spade\n",
      "5 of Diamond\n",
      "Jack of Diamond\n",
      "5 of Hearts\n",
      "Queen of Hearts\n",
      "7 of Club\n",
      "7 of Diamond\n",
      "9 of Diamond\n",
      "Jack of Hearts\n",
      "2 of Spade\n",
      "6 of Spade\n",
      "10 of Spade\n",
      "10 of Diamond\n",
      "King of Hearts\n",
      "2 of Club\n",
      "King of Diamond\n",
      "8 of Diamond\n",
      "4 of Spade\n",
      "10 of Club\n",
      "6 of Hearts\n",
      "7 of Spade\n",
      "Queen of Diamond\n",
      "2 of Diamond\n",
      "Queen of Spade\n",
      "Ace of Club\n",
      "King of Club\n"
     ]
    }
   ],
   "source": [
    "ShuffleDecks().properShuffle()\n",
    "for card in ShuffleDecks.shuffleList:\n",
    "    print(card)"
   ]
  }
 ],
 "metadata": {
  "celltoolbar": "Edit Metadata",
  "kernelspec": {
   "display_name": "Python 3",
   "language": "python",
   "name": "python3"
  },
  "language_info": {
   "codemirror_mode": {
    "name": "ipython",
    "version": 3
   },
   "file_extension": ".py",
   "mimetype": "text/x-python",
   "name": "python",
   "nbconvert_exporter": "python",
   "pygments_lexer": "ipython3",
   "version": "3.7.3"
  }
 },
 "nbformat": 4,
 "nbformat_minor": 2
}
